{
    "cells": [
        {
            "cell_type": "code",
            "execution_count": 14,
            "metadata": {},
            "outputs": [
                {
                    "name": "stdout",
                    "output_type": "stream",
                    "text": "Hello hello test\n"
                }
            ],
            "source": "print(\"Hello hello test\")"
        },
        {
            "cell_type": "code",
            "execution_count": 15,
            "metadata": {},
            "outputs": [
                {
                    "name": "stdout",
                    "output_type": "stream",
                    "text": "5\n"
                }
            ],
            "source": "A=3\nB=2\nC=A+B\nprint(C)"
        },
        {
            "cell_type": "code",
            "execution_count": 16,
            "metadata": {},
            "outputs": [
                {
                    "data": {
                        "text/html": "<marquee>\ud83d\ude14</marquee>",
                        "text/plain": "<IPython.core.display.HTML object>"
                    },
                    "metadata": {},
                    "output_type": "display_data"
                }
            ],
            "source": "\n\nfrom IPython.display import HTML\nimport time\n\nhandle = display(HTML(\"\"\"<marquee>Here I am scrolling</marquee>\"\"\"), display_id='html_marquee')\ntime.sleep(2)\nhandle.display(HTML(\"\"\"<marquee>RESET MUAHAHAHAHAHAH</marquee>\"\"\"), update=True)\ntime.sleep(2)\nhandle.display(HTML(\"\"\"<marquee>\ud83d\ude14</marquee>\"\"\"), update=True)\n"
        },
        {
            "cell_type": "markdown",
            "metadata": {},
            "source": "<html>\n<head> Aizat and Nasir are dumb dumb </head>\n<body>\n\n<h1>My First Heading</h1>\n<p>My first paragraph.</p>\n<marquee><img src=\"https://i.imgflip.com/4e9uk6.jpg\" alt=\"alternatetext\"></marquee> \n<marquee direction=\"right\"><img src=\"https://i.imgflip.com/4e9uk6.jpg\" alt=\"alternatetext\"></marquee> \n</body>\n</html>"
        },
        {
            "cell_type": "code",
            "execution_count": null,
            "metadata": {},
            "outputs": [],
            "source": ""
        }
    ],
    "metadata": {
        "kernelspec": {
            "display_name": "Python 3.8",
            "language": "python",
            "name": "python3"
        },
        "language_info": {
            "codemirror_mode": {
                "name": "ipython",
                "version": 3
            },
            "file_extension": ".py",
            "mimetype": "text/x-python",
            "name": "python",
            "nbconvert_exporter": "python",
            "pygments_lexer": "ipython3",
            "version": "3.8.10"
        }
    },
    "nbformat": 4,
    "nbformat_minor": 1
}